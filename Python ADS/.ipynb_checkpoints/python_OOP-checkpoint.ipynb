{
 "cells": [
  {
   "cell_type": "markdown",
   "id": "cf131741",
   "metadata": {},
   "source": [
    "Object Oriented Programming dalam Python\n"
   ]
  },
  {
   "cell_type": "code",
   "execution_count": 8,
   "id": "f7a42740",
   "metadata": {},
   "outputs": [],
   "source": [
    "#contoh membuat blueprint orang\n",
    "\n",
    "class Orang:\n",
    "    def __init__(self, nama_depan, nama_tengah, nama_belakang, umur, jenis_kelamin, negara_asal):\n",
    "        self.nama_depan = nama_depan\n",
    "        self.nama_tengah = nama_tengah\n",
    "        self.nama_belakang = nama_belakang\n",
    "        self.umur = umur\n",
    "        self.jenis_kelamin = jenis_kelamin\n",
    "        self.negara_asal = negara_asal\n",
    "    \n",
    "    def nama_lengkap(self):\n",
    "        return(self.nama_depan + \" \" + self.nama_tengah + \" \" + self.nama_belakang)\n",
    "        "
   ]
  },
  {
   "cell_type": "code",
   "execution_count": 9,
   "id": "c39c683e",
   "metadata": {},
   "outputs": [],
   "source": [
    "orang1 = Orang(\"Baharudin\", \"Jusuf\", \"Habibie\", \"25\", \"perempuan\", \"Indonesia\" )"
   ]
  },
  {
   "cell_type": "code",
   "execution_count": 12,
   "id": "c4ef6965",
   "metadata": {},
   "outputs": [
    {
     "data": {
      "text/plain": [
       "'Indonesia'"
      ]
     },
     "execution_count": 12,
     "metadata": {},
     "output_type": "execute_result"
    }
   ],
   "source": [
    "orang1.negara_asal"
   ]
  },
  {
   "cell_type": "raw",
   "id": "395efbca",
   "metadata": {},
   "source": []
  }
 ],
 "metadata": {
  "kernelspec": {
   "display_name": "Python 3.8.10 64-bit ('general38': conda)",
   "language": "python",
   "name": "python3810jvsc74a57bd0b5399f884efafc77cbfcf17509b6b083e6c03f93bc2c7be51e9d34902026118b"
  },
  "language_info": {
   "codemirror_mode": {
    "name": "ipython",
    "version": 3
   },
   "file_extension": ".py",
   "mimetype": "text/x-python",
   "name": "python",
   "nbconvert_exporter": "python",
   "pygments_lexer": "ipython3",
   "version": "3.8.10"
  }
 },
 "nbformat": 4,
 "nbformat_minor": 5
}
