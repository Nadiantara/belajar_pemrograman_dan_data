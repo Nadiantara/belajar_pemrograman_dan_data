{
 "cells": [
  {
   "cell_type": "markdown",
   "metadata": {},
   "source": [
    "## Object Oriented Programming dalam Python\n",
    "\n",
    "### 1. Simple `class`\n",
    "Misalkan kita memikirkan orang sebagai suatu objek. Misalnya karakteristik yang ingin kita tinjau adalah nama, umur, jenis kelamin, pekerjaan, pendapatan, dan negara asal dari seseorang. Kita bisa menyimpan karakteristik/properti dari seseorang dalam bentuk list misal:"
   ]
  },
  {
   "cell_type": "code",
   "execution_count": 16,
   "metadata": {},
   "outputs": [],
   "source": [
    "orang1 = [\"Susilo\",\"Bambang\",\"Yudhoyono\",70, \"laki-laki\", \"Presiden\", 100000000, \"Indonesia\"]\n",
    "orang2 = [\"Mak\", \"Kau\", \"Kiper\", 69, \"perempuan\", \"Menteri\", 10000000, \"Indonesia\"]"
   ]
  },
  {
   "cell_type": "markdown",
   "metadata": {},
   "source": [
    "Jika kita ingin mendapatkan nama lengkap dari orang1 maka kita dapat menjalankan perintah:\n",
    "<br>\n",
    "`print(orang1[0] + \" \"+ orang1[1] + \" \"+ orang1[2])`"
   ]
  },
  {
   "cell_type": "markdown",
   "metadata": {},
   "source": [
    "Tentu saja ini proses yang rumit, rawan kesalahan, dan memakan banyak waktu. Kita dapat menggunakan `class` sebagai blueprint dari objek yang kita inginkan misal: "
   ]
  },
  {
   "cell_type": "code",
   "execution_count": 14,
   "metadata": {},
   "outputs": [
    {
     "name": "stdout",
     "output_type": "stream",
     "text": [
      "Susilo Bambang Yudhoyono\n",
      "Mak Kau Kiper\n"
     ]
    }
   ],
   "source": [
    "class Orang:\n",
    "    pass\n",
    "\n",
    "orang1 = Orang()\n",
    "orang2 = Orang()\n",
    "\n",
    "orang1.nama_depan = \"Susilo\"\n",
    "orang1.nama_tengah = \"Bambang\"\n",
    "orang1.nama_belakang = \"Yudhoyono\"\n",
    "orang1.umur=70\n",
    "\n",
    "orang2.nama_depan = \"Mak\"\n",
    "orang2.nama_tengah = \"Kau\"\n",
    "orang2.nama_belakang = \"Kiper\"\n",
    "orang2.umur = 69\n",
    "\n",
    "print(orang1.nama_depan+\" \"+orang1.nama_tengah+\" \"+orang1.nama_belakang)\n",
    "print(orang2.nama_depan+\" \"+orang2.nama_tengah+\" \"+orang2.nama_belakang)"
   ]
  },
  {
   "cell_type": "markdown",
   "metadata": {},
   "source": [
    "Dalam proses ini, orang1 dan orang2 disebut sebagai *instance* dari suatu kelas dalam hal ini kelas `Orang`. Proses di atas terlihat sekilas lebih rapi namun tetap masih membutuhkan banyak kode yang repetiti, apalagi jika kita nantinya ingin menambahkan lebih banyak orang. Kita dapat menggunakan metode `__init__` untuk menginisiasi variabel yang akan dimiliki oleh objek yang dihasilkan blueprint ini."
   ]
  },
  {
   "cell_type": "code",
   "execution_count": 5,
   "metadata": {},
   "outputs": [],
   "source": [
    "#contoh membuat blueprint orang\n",
    "\n",
    "class Orang:\n",
    "    def __init__(self, nama_depan=\"\", nama_tengah=\"\", nama_belakang=\"\", umur=None, jenis_kelamin=None, negara_asal=None):\n",
    "        self.nama_depan = nama_depan\n",
    "        self.nama_tengah = nama_tengah\n",
    "        self.nama_belakang = nama_belakang\n",
    "        self.umur = umur\n",
    "        self.jenis_kelamin = jenis_kelamin\n",
    "        self.negara_asal = negara_asal\n",
    "    \n",
    "    def nama_lengkap(self):\n",
    "        return(self.nama_depan + \" \" + self.nama_tengah + \" \" + self.nama_belakang)\n",
    "        "
   ]
  },
  {
   "cell_type": "markdown",
   "metadata": {},
   "source": [
    "### Penting!!!\n",
    "`self` merupakan konvensi untuk merepresentasikan ke mana properti/karakteristik dari objek ini mengarah. Misal `Orang` merupakan kelas atau blueprint yang menghasilkan objek `orang`. Maka properti atau karakteristik yang \"dicetak\" dari blueprint `Orang` akan dimiliki `orang` dengan contoh sebagai berikut:\n"
   ]
  },
  {
   "cell_type": "code",
   "execution_count": 13,
   "metadata": {},
   "outputs": [],
   "source": [
    "#contoh membuat blueprint orang\n",
    "\n",
    "class Orang:\n",
    "    def __init__(orang, nama_depan=\"\", nama_tengah=\"\", nama_belakang=\"\", umur=None, jenis_kelamin=None, negara_asal=None):\n",
    "        orang.nama_depan = nama_depan\n",
    "        orang.nama_tengah = nama_tengah\n",
    "        orang.nama_belakang = nama_belakang\n",
    "        orang.umur = umur\n",
    "        orang.jenis_kelamin = jenis_kelamin\n",
    "        orang.negara_asal = negara_asal\n",
    "    \n",
    "    def nama_lengkap(orang):\n",
    "        return(orang.nama_depan + \" \" + orang.nama_tengah + \" \" + orang.nama_belakang)\n",
    "        "
   ]
  },
  {
   "cell_type": "markdown",
   "metadata": {},
   "source": [
    "Kode ini tidak berbeda jika dijalankan dengan kode sebelumnya. Hanya saja dalam python, `self` sangat umum digunakan."
   ]
  },
  {
   "cell_type": "code",
   "execution_count": 12,
   "metadata": {},
   "outputs": [],
   "source": [
    "# lebih cepat\n",
    "orang1 = Orang(\"Susilo\", \"Bambang\", \"Yudhoyono\", 70, \"laki-laki\", \"Indonesia\" )\n",
    "\n",
    "# lebih baik\n",
    "orang2 = Orang(nama_depan=\"Mak\", nama_tengah=\"Kau\", nama_belakang=\"Kiper\",\\\n",
    "               umur=69, jenis_kelamin=\"Perempuan\", negara_asal=\"Indonesia\")"
   ]
  },
  {
   "cell_type": "code",
   "execution_count": 8,
   "metadata": {},
   "outputs": [
    {
     "name": "stdout",
     "output_type": "stream",
     "text": [
      "Susilo Bambang Yudhoyono\n",
      "Mak Kau Kiper\n"
     ]
    }
   ],
   "source": [
    "print(orang1.nama_lengkap())\n",
    "print(orang2.nama_lengkap())"
   ]
  },
  {
   "cell_type": "markdown",
   "metadata": {},
   "source": [
    "Objek orang1 dan orang2 disimpan dalam alamat memori yang berbeda"
   ]
  },
  {
   "cell_type": "code",
   "execution_count": 11,
   "metadata": {},
   "outputs": [
    {
     "name": "stdout",
     "output_type": "stream",
     "text": [
      "<__main__.Orang object at 0x107375f40>\n",
      "<__main__.Orang object at 0x107375d30>\n"
     ]
    }
   ],
   "source": [
    "print(orang1)\n",
    "print(orang2)"
   ]
  },
  {
   "cell_type": "markdown",
   "metadata": {},
   "source": [
    "<br>\n",
    "\n",
    "### 2. `class` variable, `class` method, dan `static` method\n",
    "<br>\n",
    "\n",
    "Nama, umur, dan kebangsaan merupakan variabel yang spesifik dimiliki oleh suatu *instance* dalam hal ini disebut sebagai *instance variable* . Kita juga dapat membuat variabel yang dimiliki oleh seluruh `instance`. Dalam python terdapat 3 jenis"
   ]
  },
  {
   "cell_type": "code",
   "execution_count": null,
   "metadata": {},
   "outputs": [],
   "source": []
  }
 ],
 "metadata": {
  "kernelspec": {
   "display_name": "Python 3.7.7 64-bit ('streamlit': conda)",
   "language": "python",
   "name": "python37764bitstreamlitconda02d7929af85c47fca1a84061f77f86fe"
  },
  "language_info": {
   "codemirror_mode": {
    "name": "ipython",
    "version": 3
   },
   "file_extension": ".py",
   "mimetype": "text/x-python",
   "name": "python",
   "nbconvert_exporter": "python",
   "pygments_lexer": "ipython3",
   "version": "3.7.7"
  }
 },
 "nbformat": 4,
 "nbformat_minor": 5
}
